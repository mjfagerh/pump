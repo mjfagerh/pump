{
 "cells": [
  {
   "cell_type": "code",
   "execution_count": null,
   "metadata": {
    "collapsed": true
   },
   "outputs": [],
   "source": [
    "import numpy as np\n",
    "def volume(d,l):\n",
    "    \"\"\"\n",
    "\n",
    "    :param d: in mm\n",
    "    :param l: in mm\n",
    "    :return:\n",
    "    \"\"\"\n",
    "    area = np.pi*(d/2)**2\n",
    "    volume = area*l\n",
    "    return volume\n",
    "\n",
    "\n",
    "#to fill that in 2 mins we need a flowrate of\n",
    "print(f\"to fill 1 cm of the tube we need  {V} microL/min\")\n",
    "print(F\"in Hz that is {V*200}\")\n",
    "\n",
    "hz = np.array([502.8, 394])\n",
    "l = np.array([13.17, 9.7])\n",
    "\n",
    "fr = hz/200\n",
    "print(f\"filled volume was {volume(0.5,l)} expected filled volume was {fr}\")\n",
    "\n"
   ]
  },
  {
   "cell_type": "code",
   "execution_count": 2,
   "outputs": [
    {
     "name": "stdout",
     "output_type": "stream",
     "text": [
      "2000.0\n",
      "2000.0\n"
     ]
    }
   ],
   "source": [
    "sv = 100 # mikroliter\n",
    "sl = 60  #mm\n",
    "def faktor(sprøyte_volum, sprøyte_lengde):\n",
    "    motor = 200 # trin per omdreining\n",
    "    mikrostep = 250\n",
    "    gir = 4\n",
    "    skrestigning = 1 #mm\n",
    "    return (sprøyte_lengde/sprøyte_volum)*4*250*200/skrestigning/60 # hz/faktor = mikroliter per minutt\n",
    "print(faktor(sv,sl))\n",
    "\n",
    "def hz_to_flowrare(hz,sv,sl):\n",
    "    return hz/faktor(sv,sl)\n",
    "\n",
    "def simulate_input(flowrate,sv,sl):\n",
    "    fac = faktor(sv,sl)\n",
    "    f = flowrate*fac\n",
    "    print(f\"a perfect convertion gives that this is {f} hz\")\n",
    "    T = 1e6/f\n",
    "    f = 1e6/int(T)\n",
    "    print(f\"because the periode has to be a int in mikrosecond we get that the true period is {int(T)}\")\n",
    "    print(f\"hence the true flowrate is {f/fac} mikroliter/min\")\n",
    "\n",
    "print(faktor(sv,sl))\n"
   ],
   "metadata": {
    "collapsed": false,
    "pycharm": {
     "name": "#%%\n"
    }
   }
  },
  {
   "cell_type": "code",
   "execution_count": null,
   "outputs": [],
   "source": [],
   "metadata": {
    "collapsed": false,
    "pycharm": {
     "name": "#%%\n"
    }
   }
  }
 ],
 "metadata": {
  "kernelspec": {
   "display_name": "Python 3",
   "language": "python",
   "name": "python3"
  },
  "language_info": {
   "codemirror_mode": {
    "name": "ipython",
    "version": 2
   },
   "file_extension": ".py",
   "mimetype": "text/x-python",
   "name": "python",
   "nbconvert_exporter": "python",
   "pygments_lexer": "ipython2",
   "version": "2.7.6"
  }
 },
 "nbformat": 4,
 "nbformat_minor": 0
}